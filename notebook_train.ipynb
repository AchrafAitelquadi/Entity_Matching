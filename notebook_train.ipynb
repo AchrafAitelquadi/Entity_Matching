{
 "cells": [
  {
   "cell_type": "code",
   "execution_count": 1,
   "id": "ab3f481a",
   "metadata": {},
   "outputs": [
    {
     "name": "stderr",
     "output_type": "stream",
     "text": [
      "c:\\Users\\DELL\\anaconda3\\envs\\ditto_env\\Lib\\site-packages\\tqdm\\auto.py:21: TqdmWarning: IProgress not found. Please update jupyter and ipywidgets. See https://ipywidgets.readthedocs.io/en/stable/user_install.html\n",
      "  from .autonotebook import tqdm as notebook_tqdm\n",
      "[nltk_data] Downloading package stopwords to\n",
      "[nltk_data]     C:\\Users\\DELL\\AppData\\Roaming\\nltk_data...\n",
      "[nltk_data]   Package stopwords is already up-to-date!\n"
     ]
    }
   ],
   "source": [
    "from argparse import Namespace\n",
    "import time\n",
    "import random\n",
    "\n",
    "from my_code.data_generation import generate_tables\n",
    "from my_code.blocking import run_blocking\n",
    "from my_code.summarizer import Summarizer\n",
    "from my_code.DK import ProductDKInjector, GeneralDKInjector\n",
    "from my_code.dataset import DittoDataset\n",
    "from my_code.utils import train\n",
    "from my_code.utils import run_inference"
   ]
  },
  {
   "cell_type": "code",
   "execution_count": 2,
   "id": "1e83b232",
   "metadata": {},
   "outputs": [],
   "source": [
    "# ---------------------------------------------------------------------------------------------\n",
    "# TO UPDATE TO THE PROJECT ROOT\n",
    "base_path_blocking = \"D:/Study/ENSIAS/stage_2/ER/ditto/resultat\"\n",
    "# ---------------------------------------------------------------------------------------------\n"
   ]
  },
  {
   "cell_type": "code",
   "execution_count": 3,
   "id": "f29250fc",
   "metadata": {},
   "outputs": [],
   "source": [
    "hp = Namespace(\n",
    "    # Hyperparameters for blocking part\n",
    "    model_name_blocking=\"all-MiniLM-L12-v2\",\n",
    "    top_k_blocking=5,\n",
    "    threshold_blocking=0.95,\n",
    "    batch_size_blocking=512,\n",
    "\n",
    "    \n",
    "    # Paths\n",
    "    base_path_blocking=base_path_blocking,\n",
    "\n",
    "    # Input CSVs\n",
    "    table_reference_csv=f\"{base_path_blocking}/data/reference_table.csv\",\n",
    "    table_source_csv=f\"{base_path_blocking}/data/source_table.csv\",\n",
    "    ground_truth_csv=f\"{base_path_blocking}/data/ground_truth.csv\",\n",
    "\n",
    "    # Ditto-style TXT\n",
    "    table_reference_txt=f\"{base_path_blocking}/input_txt_blocking/reference_table.txt\",\n",
    "    table_source_txt=f\"{base_path_blocking}/input_txt_blocking/source_table.txt\",\n",
    "\n",
    "    # Vector files\n",
    "    table_reference_vec=f\"{base_path_blocking}/vectors_blocking/reference_table.txt.mat\",\n",
    "    table_source_vec=f\"{base_path_blocking}/vectors_blocking/source_table.txt.mat\",\n",
    "\n",
    "    # Blocking outputs\n",
    "    output_pairs_csv=f\"{base_path_blocking}/blocking/blocking_pairs.csv\",\n",
    "    output_ditto_txt=f\"{base_path_blocking}/blocking/blocking_pairs_ditto.txt\",\n",
    "\n",
    "    # Inference output\n",
    "    output_inference_csv=f\"{base_path_blocking}/inference/result.csv\",\n",
    "\n",
    "    dataset_csv_dir=f\"{base_path_blocking}/dataset_ditto_csv\",\n",
    "    dataset_txt_dir=f\"{base_path_blocking}/dataset_ditto_txt\",\n",
    "\n",
    "    # Logging and task info\n",
    "    logdir=\"./logs\",\n",
    "    task=\"Generated_data\",\n",
    "\n",
    "    # Hyperparameters for training\n",
    "    batch_size=32,\n",
    "    lr=3e-5,\n",
    "    epochs=5,\n",
    "    save_model=True,\n",
    "    lm=\"distilbert\",\n",
    "    size=None,\n",
    "    alpha_aug=0.8,\n",
    "    max_len=256,\n",
    "    da=\"all\",\n",
    "    summarize=True,\n",
    "    dk=True,\n",
    "    fp16=True,\n",
    "    overwrite=True\n",
    ")\n",
    "\n",
    "\n",
    "configs = [{\n",
    "    \"name\": \"Generated_data\",\n",
    "    \"trainset\": f\"{hp.base_path_blocking}/dataset_ditto_txt/{hp.task}/train.txt\",\n",
    "    \"validset\": f\"{hp.base_path_blocking}/dataset_ditto_txt/{hp.task}/valid.txt\",\n",
    "    \"testset\": f\"{hp.base_path_blocking}/dataset_ditto_txt/{hp.task}/test.txt\"\n",
    "}]\n",
    "\n",
    "\n",
    "configs = {conf['name'] : conf for conf in configs}\n",
    "config = configs[hp.task]"
   ]
  },
  {
   "cell_type": "code",
   "execution_count": 4,
   "id": "44ba1894",
   "metadata": {},
   "outputs": [],
   "source": [
    "def run_full_pipeline(hp, config):\n",
    "    trainset = config['trainset']\n",
    "    validset = config['validset']\n",
    "    testset = config['testset']\n",
    "    random.seed(42)  # For reproducibility\n",
    "\n",
    "    #---------------------------------------------------------------------------------------------\n",
    "    #TO UPDATE IF NEEDED FOR DATA GENERATION\n",
    "    generate_tables(base_path=hp.base_path_blocking, n_total=2000, match_ratio=0.3)\n",
    "    #---------------------------------------------------------------------------------------------\n",
    "    run_blocking(hp)\n",
    "    if hp.summarize:\n",
    "        summarizer = Summarizer(config, hp.lm)\n",
    "        trainset = summarizer.transform_file(trainset, max_len = hp.max_len, overwrite=hp.overwrite)\n",
    "        testset = summarizer.transform_file(testset, max_len = hp.max_len, overwrite=hp.overwrite)\n",
    "        validset = summarizer.transform_file(validset, max_len = hp.max_len, overwrite=hp.overwrite)\n",
    "\n",
    "    if hp.dk is not None:\n",
    "        if hp.dk == 'product':\n",
    "            injector = ProductDKInjector(config, hp.dk)\n",
    "        else:\n",
    "            injector = GeneralDKInjector(config, hp.dk)\n",
    "        \n",
    "        trainset = injector.transform_file(trainset, overwrite=hp.overwrite)\n",
    "        validset = injector.transform_file(validset, overwrite=hp.overwrite)\n",
    "        testset = injector.transform_file(testset, overwrite=hp.overwrite)\n",
    "\n",
    "    train_dataset = DittoDataset(trainset,\n",
    "                                   lm=hp.lm,\n",
    "                                   max_len=hp.max_len,\n",
    "                                   size=hp.size,\n",
    "                                   da=hp.da)\n",
    "    valid_dataset = DittoDataset(validset, lm=hp.lm)\n",
    "    test_dataset = DittoDataset(testset, lm=hp.lm)\n",
    "\n",
    "    t1 = time.time()\n",
    "    train(train_dataset, valid_dataset, test_dataset, run_tag=\"test_run\", hp=hp)\n",
    "    t2 = time.time()\n",
    "\n",
    "    print(f\"Trainig time: {round(t2-t1, 3)} seconds\")"
   ]
  },
  {
   "cell_type": "code",
   "execution_count": 5,
   "id": "e50edd7f",
   "metadata": {},
   "outputs": [
    {
     "name": "stdout",
     "output_type": "stream",
     "text": [
      "Generating 2000 records:\n",
      "600 matching pairs (30%)\n",
      "1400 non-matching records\n",
      "==================================================\n",
      "\n",
      "📁 Files saved\n",
      " - Reference: 600 rows\n",
      " - Source:    2000 rows\n",
      " - Ground Truth: 1800 pairs\n",
      "   - Matches: 600\n",
      "   - Non-matches: 1200\n"
     ]
    },
    {
     "name": "stderr",
     "output_type": "stream",
     "text": [
      "c:\\Users\\DELL\\anaconda3\\envs\\ditto_env\\Lib\\site-packages\\huggingface_hub\\file_download.py:945: FutureWarning: `resume_download` is deprecated and will be removed in version 1.0.0. Downloads always resume when possible. If you want to force a new download, use `force_download=True`.\n",
      "  warnings.warn(\n",
      "c:\\Users\\DELL\\anaconda3\\envs\\ditto_env\\Lib\\site-packages\\transformers\\models\\bert\\modeling_bert.py:435: UserWarning: 1Torch was not compiled with flash attention. (Triggered internally at ..\\aten\\src\\ATen\\native\\transformers\\cuda\\sdp_utils.cpp:455.)\n",
      "  attn_output = torch.nn.functional.scaled_dot_product_attention(\n",
      "100%|██████████| 4/4 [00:00<00:00, 80.38it/s]\n"
     ]
    },
    {
     "name": "stdout",
     "output_type": "stream",
     "text": [
      "\n",
      "📊 Blocking Metrics:\n",
      " - Total candidate pairs generated: 10000\n",
      " - Total true matches in ground truth: 600\n",
      " - Predicted positive pairs (label=1): 650\n",
      " - Correctly predicted matches: 458\n",
      " - Recall:           0.7633\n",
      " - Precision:        0.7046\n",
      " - Reduction Ratio:  0.9917\n",
      "\n",
      "✅ Blocking completed: 1300 balanced pairs written to:\n",
      "D:/Study/ENSIAS/stage_2/ER/ditto/resultat/dataset_ditto_csv\\Generated_data\n",
      "\n",
      "📁 Split saved\n"
     ]
    },
    {
     "name": "stderr",
     "output_type": "stream",
     "text": [
      "Training:   0%|          | 0/25 [00:00<?, ?it/s]We strongly recommend passing in an `attention_mask` since your input_ids may be padded. See https://huggingface.co/docs/transformers/troubleshooting#incorrect-output-when-padding-tokens-arent-masked.\n",
      "                                                        \r"
     ]
    },
    {
     "ename": "KeyboardInterrupt",
     "evalue": "",
     "output_type": "error",
     "traceback": [
      "\u001b[31m---------------------------------------------------------------------------\u001b[39m",
      "\u001b[31mKeyboardInterrupt\u001b[39m                         Traceback (most recent call last)",
      "\u001b[36mCell\u001b[39m\u001b[36m \u001b[39m\u001b[32mIn[5]\u001b[39m\u001b[32m, line 1\u001b[39m\n\u001b[32m----> \u001b[39m\u001b[32m1\u001b[39m \u001b[43mrun_full_pipeline\u001b[49m\u001b[43m(\u001b[49m\u001b[43mhp\u001b[49m\u001b[43m,\u001b[49m\u001b[43m \u001b[49m\u001b[43mconfig\u001b[49m\u001b[43m)\u001b[49m\n",
      "\u001b[36mCell\u001b[39m\u001b[36m \u001b[39m\u001b[32mIn[4]\u001b[39m\u001b[32m, line 37\u001b[39m, in \u001b[36mrun_full_pipeline\u001b[39m\u001b[34m(hp, config)\u001b[39m\n\u001b[32m     34\u001b[39m test_dataset = DittoDataset(testset, lm=hp.lm)\n\u001b[32m     36\u001b[39m t1 = time.time()\n\u001b[32m---> \u001b[39m\u001b[32m37\u001b[39m \u001b[43mtrain\u001b[49m\u001b[43m(\u001b[49m\u001b[43mtrain_dataset\u001b[49m\u001b[43m,\u001b[49m\u001b[43m \u001b[49m\u001b[43mvalid_dataset\u001b[49m\u001b[43m,\u001b[49m\u001b[43m \u001b[49m\u001b[43mtest_dataset\u001b[49m\u001b[43m,\u001b[49m\u001b[43m \u001b[49m\u001b[43mrun_tag\u001b[49m\u001b[43m=\u001b[49m\u001b[33;43m\"\u001b[39;49m\u001b[33;43mtest_run\u001b[39;49m\u001b[33;43m\"\u001b[39;49m\u001b[43m,\u001b[49m\u001b[43m \u001b[49m\u001b[43mhp\u001b[49m\u001b[43m=\u001b[49m\u001b[43mhp\u001b[49m\u001b[43m)\u001b[49m\n\u001b[32m     38\u001b[39m t2 = time.time()\n\u001b[32m     40\u001b[39m \u001b[38;5;28mprint\u001b[39m(\u001b[33mf\u001b[39m\u001b[33m\"\u001b[39m\u001b[33mTrainig time: \u001b[39m\u001b[38;5;132;01m{\u001b[39;00m\u001b[38;5;28mround\u001b[39m(t2-t1,\u001b[38;5;250m \u001b[39m\u001b[32m3\u001b[39m)\u001b[38;5;132;01m}\u001b[39;00m\u001b[33m seconds\u001b[39m\u001b[33m\"\u001b[39m)\n",
      "\u001b[36mFile \u001b[39m\u001b[32md:\\Study\\ENSIAS\\stage_2\\ER\\ditto\\my_code\\utils.py:198\u001b[39m, in \u001b[36mtrain\u001b[39m\u001b[34m(trainset, validset, testset, run_tag, hp)\u001b[39m\n\u001b[32m    195\u001b[39m start_time = time.time()\n\u001b[32m    197\u001b[39m model.train()\n\u001b[32m--> \u001b[39m\u001b[32m198\u001b[39m train_loss = \u001b[43mtrain_step\u001b[49m\u001b[43m(\u001b[49m\u001b[43mtrain_iter\u001b[49m\u001b[43m,\u001b[49m\u001b[43m \u001b[49m\u001b[43mmodel\u001b[49m\u001b[43m,\u001b[49m\u001b[43m \u001b[49m\u001b[43moptimizer\u001b[49m\u001b[43m,\u001b[49m\u001b[43m \u001b[49m\u001b[43mscheduler\u001b[49m\u001b[43m,\u001b[49m\u001b[43m \u001b[49m\u001b[43mhp\u001b[49m\u001b[43m)\u001b[49m\n\u001b[32m    200\u001b[39m model.eval()\n\u001b[32m    202\u001b[39m dev_f1, threshold, val_acc, val_precision, val_recall = evaluate(model, valid_iter)\n",
      "\u001b[36mFile \u001b[39m\u001b[32md:\\Study\\ENSIAS\\stage_2\\ER\\ditto\\my_code\\utils.py:120\u001b[39m, in \u001b[36mtrain_step\u001b[39m\u001b[34m(train_iter, model, optimizer, scheduler, hp)\u001b[39m\n\u001b[32m    118\u001b[39m \u001b[38;5;28;01mif\u001b[39;00m hp.fp16:\n\u001b[32m    119\u001b[39m     scaler.scale(loss).backward()\n\u001b[32m--> \u001b[39m\u001b[32m120\u001b[39m     \u001b[43mscaler\u001b[49m\u001b[43m.\u001b[49m\u001b[43mstep\u001b[49m\u001b[43m(\u001b[49m\u001b[43moptimizer\u001b[49m\u001b[43m)\u001b[49m\n\u001b[32m    121\u001b[39m     scaler.update()\n\u001b[32m    122\u001b[39m \u001b[38;5;28;01melse\u001b[39;00m:\n",
      "\u001b[36mFile \u001b[39m\u001b[32mc:\\Users\\DELL\\anaconda3\\envs\\ditto_env\\Lib\\site-packages\\torch\\amp\\grad_scaler.py:453\u001b[39m, in \u001b[36mGradScaler.step\u001b[39m\u001b[34m(self, optimizer, *args, **kwargs)\u001b[39m\n\u001b[32m    447\u001b[39m     \u001b[38;5;28mself\u001b[39m.unscale_(optimizer)\n\u001b[32m    449\u001b[39m \u001b[38;5;28;01massert\u001b[39;00m (\n\u001b[32m    450\u001b[39m     \u001b[38;5;28mlen\u001b[39m(optimizer_state[\u001b[33m\"\u001b[39m\u001b[33mfound_inf_per_device\u001b[39m\u001b[33m\"\u001b[39m]) > \u001b[32m0\u001b[39m\n\u001b[32m    451\u001b[39m ), \u001b[33m\"\u001b[39m\u001b[33mNo inf checks were recorded for this optimizer.\u001b[39m\u001b[33m\"\u001b[39m\n\u001b[32m--> \u001b[39m\u001b[32m453\u001b[39m retval = \u001b[38;5;28;43mself\u001b[39;49m\u001b[43m.\u001b[49m\u001b[43m_maybe_opt_step\u001b[49m\u001b[43m(\u001b[49m\u001b[43moptimizer\u001b[49m\u001b[43m,\u001b[49m\u001b[43m \u001b[49m\u001b[43moptimizer_state\u001b[49m\u001b[43m,\u001b[49m\u001b[43m \u001b[49m\u001b[43m*\u001b[49m\u001b[43margs\u001b[49m\u001b[43m,\u001b[49m\u001b[43m \u001b[49m\u001b[43m*\u001b[49m\u001b[43m*\u001b[49m\u001b[43mkwargs\u001b[49m\u001b[43m)\u001b[49m\n\u001b[32m    455\u001b[39m optimizer_state[\u001b[33m\"\u001b[39m\u001b[33mstage\u001b[39m\u001b[33m\"\u001b[39m] = OptState.STEPPED\n\u001b[32m    457\u001b[39m \u001b[38;5;28;01mreturn\u001b[39;00m retval\n",
      "\u001b[36mFile \u001b[39m\u001b[32mc:\\Users\\DELL\\anaconda3\\envs\\ditto_env\\Lib\\site-packages\\torch\\amp\\grad_scaler.py:350\u001b[39m, in \u001b[36mGradScaler._maybe_opt_step\u001b[39m\u001b[34m(self, optimizer, optimizer_state, *args, **kwargs)\u001b[39m\n\u001b[32m    342\u001b[39m \u001b[38;5;28;01mdef\u001b[39;00m\u001b[38;5;250m \u001b[39m\u001b[34m_maybe_opt_step\u001b[39m(\n\u001b[32m    343\u001b[39m     \u001b[38;5;28mself\u001b[39m,\n\u001b[32m    344\u001b[39m     optimizer: torch.optim.Optimizer,\n\u001b[32m   (...)\u001b[39m\u001b[32m    347\u001b[39m     **kwargs: Any,\n\u001b[32m    348\u001b[39m ) -> Optional[\u001b[38;5;28mfloat\u001b[39m]:\n\u001b[32m    349\u001b[39m     retval: Optional[\u001b[38;5;28mfloat\u001b[39m] = \u001b[38;5;28;01mNone\u001b[39;00m\n\u001b[32m--> \u001b[39m\u001b[32m350\u001b[39m     \u001b[38;5;28;01mif\u001b[39;00m \u001b[38;5;129;01mnot\u001b[39;00m \u001b[38;5;28;43msum\u001b[39;49m\u001b[43m(\u001b[49m\u001b[43mv\u001b[49m\u001b[43m.\u001b[49m\u001b[43mitem\u001b[49m\u001b[43m(\u001b[49m\u001b[43m)\u001b[49m\u001b[43m \u001b[49m\u001b[38;5;28;43;01mfor\u001b[39;49;00m\u001b[43m \u001b[49m\u001b[43mv\u001b[49m\u001b[43m \u001b[49m\u001b[38;5;129;43;01min\u001b[39;49;00m\u001b[43m \u001b[49m\u001b[43moptimizer_state\u001b[49m\u001b[43m[\u001b[49m\u001b[33;43m\"\u001b[39;49m\u001b[33;43mfound_inf_per_device\u001b[39;49m\u001b[33;43m\"\u001b[39;49m\u001b[43m]\u001b[49m\u001b[43m.\u001b[49m\u001b[43mvalues\u001b[49m\u001b[43m(\u001b[49m\u001b[43m)\u001b[49m\u001b[43m)\u001b[49m:\n\u001b[32m    351\u001b[39m         retval = optimizer.step(*args, **kwargs)\n\u001b[32m    352\u001b[39m     \u001b[38;5;28;01mreturn\u001b[39;00m retval\n",
      "\u001b[36mFile \u001b[39m\u001b[32mc:\\Users\\DELL\\anaconda3\\envs\\ditto_env\\Lib\\site-packages\\torch\\amp\\grad_scaler.py:350\u001b[39m, in \u001b[36m<genexpr>\u001b[39m\u001b[34m(.0)\u001b[39m\n\u001b[32m    342\u001b[39m \u001b[38;5;28;01mdef\u001b[39;00m\u001b[38;5;250m \u001b[39m\u001b[34m_maybe_opt_step\u001b[39m(\n\u001b[32m    343\u001b[39m     \u001b[38;5;28mself\u001b[39m,\n\u001b[32m    344\u001b[39m     optimizer: torch.optim.Optimizer,\n\u001b[32m   (...)\u001b[39m\u001b[32m    347\u001b[39m     **kwargs: Any,\n\u001b[32m    348\u001b[39m ) -> Optional[\u001b[38;5;28mfloat\u001b[39m]:\n\u001b[32m    349\u001b[39m     retval: Optional[\u001b[38;5;28mfloat\u001b[39m] = \u001b[38;5;28;01mNone\u001b[39;00m\n\u001b[32m--> \u001b[39m\u001b[32m350\u001b[39m     \u001b[38;5;28;01mif\u001b[39;00m \u001b[38;5;129;01mnot\u001b[39;00m \u001b[38;5;28msum\u001b[39m(\u001b[43mv\u001b[49m\u001b[43m.\u001b[49m\u001b[43mitem\u001b[49m\u001b[43m(\u001b[49m\u001b[43m)\u001b[49m \u001b[38;5;28;01mfor\u001b[39;00m v \u001b[38;5;129;01min\u001b[39;00m optimizer_state[\u001b[33m\"\u001b[39m\u001b[33mfound_inf_per_device\u001b[39m\u001b[33m\"\u001b[39m].values()):\n\u001b[32m    351\u001b[39m         retval = optimizer.step(*args, **kwargs)\n\u001b[32m    352\u001b[39m     \u001b[38;5;28;01mreturn\u001b[39;00m retval\n",
      "\u001b[31mKeyboardInterrupt\u001b[39m: "
     ]
    }
   ],
   "source": [
    "run_full_pipeline(hp, config)"
   ]
  }
 ],
 "metadata": {
  "kernelspec": {
   "display_name": "ditto_env",
   "language": "python",
   "name": "python3"
  },
  "language_info": {
   "codemirror_mode": {
    "name": "ipython",
    "version": 3
   },
   "file_extension": ".py",
   "mimetype": "text/x-python",
   "name": "python",
   "nbconvert_exporter": "python",
   "pygments_lexer": "ipython3",
   "version": "3.11.13"
  }
 },
 "nbformat": 4,
 "nbformat_minor": 5
}
